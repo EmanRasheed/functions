{
  "nbformat": 4,
  "nbformat_minor": 0,
  "metadata": {
    "colab": {
      "provenance": [],
      "toc_visible": true
    },
    "kernelspec": {
      "name": "python3",
      "display_name": "Python 3"
    },
    "language_info": {
      "name": "python"
    }
  },
  "cells": [
    {
      "cell_type": "code",
      "source": [
        "#Homework Task 1: Handling Missing Values\n",
        "# Calculate missing values in each column\n",
        "missing_person = df.isna().sum()\n",
        "\n",
        "# Calculate percentage of missing values in each column\n",
        "missing_percentage = (missing_person / len(df)) * 100\n",
        "\n",
        "# Identify columns with more than 20% missing values\n",
        "columns_to_drop = missing_percentage[missing_percentage > 20].index\n",
        "\n",
        "# Drop those columns\n",
        "df.drop(columns=columns_to_drop, inplace=True)\n"
      ],
      "metadata": {
        "id": "mxPhMehYYiB6"
      },
      "execution_count": null,
      "outputs": []
    },
    {
      "cell_type": "code",
      "source": [
        "#Homework Task 2: Advanced Filtering and Indexing\n",
        "# Filter properties located in Richmond with a price greater than $1,000,000\n",
        "richmond_houses = df[(df[\"Suburb\"] == \"Richmond\") & (df[\"Price\"] > 1000000)]\n",
        "print(richmond_houses.head())\n",
        "# Filter properties with a land size above 500 square meters and select specific columns\n",
        "df_filtered = df.loc[df[\"Landsize\"] > 500, [\"Price\", \"Suburb\", \"BuildingArea\"]]\n",
        "print(df_filtered.head())\n",
        "# Sort by price in descending order and get the top 5 most expensive houses\n",
        "df_sorted = df.sort_values(by=\"Price\", ascending=False)\n",
        "print(df_sorted.head(5))\n"
      ],
      "metadata": {
        "id": "8xR9Z_vXYoU0"
      },
      "execution_count": null,
      "outputs": []
    },
    {
      "cell_type": "code",
      "source": [
        "#Homework Task 3: Data Transformation & Feature Engineering\n",
        "# Create a new column 'Price_per_Room' by dividing Price by Rooms\n",
        "df[\"Price_per_Room\"] = df[\"Price\"] / df[\"Rooms\"]\n",
        "# Convert the 'Date' column to datetime format\n",
        "df[\"Date\"] = pd.to_datetime(df[\"Date\"])\n",
        "# Extract the year of sale from the 'Date' column and create a new column 'Year_Sold'\n",
        "df[\"Year_Sold\"] = df[\"Date\"].dt.year\n"
      ],
      "metadata": {
        "id": "rMtxTHKSZCmS"
      },
      "execution_count": null,
      "outputs": []
    },
    {
      "cell_type": "code",
      "source": [
        "#Homework Task 4: Aggregation and Grouping\n",
        "# Group by 'Suburb' and calculate the average price for each suburb\n",
        "suburb_avg_price = df.groupby(\"Suburb\")[\"Price\"].mean()\n",
        "print(suburb_avg_price)\n",
        "# Group by 'Suburb' and count the number of properties sold in each suburb\n",
        "properties_per_suburb = df.groupby(\"Suburb\")[\"Price\"].count()\n",
        "print(properties_per_suburb)\n",
        "# Find the suburb with the highest average price\n",
        "most_expensive_suburb = suburb_avg_price.idxmax()\n",
        "print(\"Most expensive suburb:\", most_expensive_suburb)\n"
      ],
      "metadata": {
        "id": "I6qmVKAWZaGz"
      },
      "execution_count": null,
      "outputs": []
    },
    {
      "cell_type": "code",
      "source": [
        "#📌 Homework Task 5: Exporting & Reporting Data\n",
        "# Save the cleaned dataset into a new CSV file\n",
        "df.to_csv(\"cleaned_data.csv\", index=False)\n",
        "# Calculate the median price\n",
        "median_price = df[\"Price\"].median()\n",
        "\n",
        "# Create a new 'Category' column based on the median price\n",
        "df[\"Category\"] = df[\"Price\"].apply(lambda x: \"Expensive\" if x > median_price else \"Affordable\")\n",
        "# Find the correlation between price and the number of rooms\n",
        "correlation = df[\"Price\"].corr(df[\"Rooms\"])\n",
        "print(\"Correlation between Price and Rooms:\", correlation)\n"
      ],
      "metadata": {
        "id": "EzH2hvXfZs6R"
      },
      "execution_count": null,
      "outputs": []
    }
  ]
}